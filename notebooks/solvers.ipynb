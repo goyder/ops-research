{
 "cells": [
  {
   "cell_type": "markdown",
   "metadata": {},
   "source": [
    "# Solvers\n",
    "\n",
    "There are a number of solvers available. Let's cover a few options."
   ]
  },
  {
   "cell_type": "markdown",
   "metadata": {},
   "source": [
    "## SciPy\n",
    "\n",
    "Venerable SciPy has a linear programming solver that's quite friendly.\n",
    "\n",
    "`scipy.optimize.linprog` - https://docs.scipy.org/doc/scipy/reference/generated/scipy.optimize.linprog.html#scipy.optimize.linprog\n",
    "\n",
    "It's not too shabby, although the inputs are quite `scipy`-ish - lots of matrices as inputs, etc. Once you've framed the solution, it seems quite divorced from the solution.\n",
    "\n",
    "### Main downsides\n",
    "\n",
    "It's only a linear program solver. No integers to be had here."
   ]
  },
  {
   "cell_type": "markdown",
   "metadata": {},
   "source": [
    "### PuLP\n",
    "\n",
    "PuLP is an LP modeler, written in Python. It can call a number of external solvers (including GUROBI) to solve linear problems.\n",
    "\n",
    "It's a very Python-esque package, almost to a fault. \n",
    "\n",
    "A key advantage is that it allows problems to have their solutions and context framed together via variables and names. This is a surprisingly pleasant option."
   ]
  },
  {
   "cell_type": "markdown",
   "metadata": {},
   "source": []
  }
 ],
 "metadata": {
  "language_info": {
   "name": "python"
  },
  "orig_nbformat": 4
 },
 "nbformat": 4,
 "nbformat_minor": 2
}

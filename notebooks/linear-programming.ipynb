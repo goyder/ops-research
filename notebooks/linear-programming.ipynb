{
 "cells": [
  {
   "cell_type": "markdown",
   "metadata": {},
   "source": [
    "# Linear programming\n",
    "\n",
    "Linear programming tends to be the first place that teaching for OR begins."
   ]
  },
  {
   "cell_type": "code",
   "execution_count": 4,
   "metadata": {},
   "outputs": [],
   "source": [
    "import scipy.optimize as opt"
   ]
  },
  {
   "cell_type": "markdown",
   "metadata": {},
   "source": [
    "## Basic elements\n",
    "\n",
    "We compose the mathematical program out of:\n",
    "\n",
    "1. The objective function – e.g. $$\\min f(x_1, x_2, \\ldots, x_n)$$\n",
    "2. The constraints – e.g. $$s.t.\\ \\ g_i(x_1, x_2, \\ldots,x_n) \\le b_i\\ \\ \\forall i=1, \\ldots, m$$\n",
    "3. The decision variable – e.g. $$x_j \\isin \\mathbb{R}\\ \\ \\forall j = 1, \\ldots , n$$"
   ]
  },
  {
   "cell_type": "markdown",
   "metadata": {},
   "source": [
    "(The decision variable is the actual decision we make – numbers of items, yes or no, etc.)"
   ]
  },
  {
   "cell_type": "markdown",
   "metadata": {},
   "source": [
    "$x$ is going to take the format of a vector of decision variables, or our *decision vector*, e.g. $$x = \\begin{bmatrix}x_{1} \\\\\n",
    "\\vdots \\\\\n",
    "x_{n}\\end{bmatrix}$$"
   ]
  },
  {
   "cell_type": "markdown",
   "metadata": {},
   "source": [
    "A mathematical program is a LP if $f$ and $g$ are all **linear** functions."
   ]
  },
  {
   "cell_type": "markdown",
   "metadata": {},
   "source": [
    "### Linear functions\n",
    "\n",
    "Each linear function may be expressed as $$a_1x_1 + a_2x_2 + \\cdots + a_nx_n = \\sum_{j=1}^n a_jx_j$$"
   ]
  },
  {
   "cell_type": "markdown",
   "metadata": {},
   "source": [
    "## Three types\n",
    "\n",
    "Any LP must be:\n",
    "* Infeasible (i.e. its feasible region is empty)\n",
    "* Unbounded (i.e. for any feasible solution, there is another feasible solution that is better)\n",
    "* Finitely optimal (i.e. it has an optimal solution)\n",
    "\n",
    "A finitely optimal LP may have:\n",
    "* A unique optimal solution\n",
    "* Multiple optimal solutions"
   ]
  },
  {
   "cell_type": "markdown",
   "metadata": {},
   "source": [
    "## Transforming minimisation to maximisation"
   ]
  },
  {
   "cell_type": "markdown",
   "metadata": {},
   "source": [
    "If ever we need to reframe a minimisation problem as a maximisation problem, it is relatively straightforward:"
   ]
  },
  {
   "cell_type": "markdown",
   "metadata": {},
   "source": [
    "$$ max\\ f(x) \\Leftrightarrow min -f(x)$$\n",
    "\n",
    "And to adapt our constraints:\n",
    "\n",
    "$$ max\\ \\ x_1 - x_2 \\\\\n",
    "s.t.\\ \\ -2x_1 + x_2 \\ge -3 \\\\\n",
    "x_1 + 4x_2 = 5 \\\\\n",
    "\\ \\\\\n",
    "\\Leftrightarrow \\\\\n",
    "\\ \\\\\n",
    "min\\ \\ -x_1 + x_2 \\\\\n",
    "s.t.\\ \\ 2x_1 - x_2 \\le 3 \\\\\n",
    "x_1 + 4x_2 \\le 5 \\\\\n",
    "-x_1 - 4x_2 \\le -5 $$"
   ]
  },
  {
   "cell_type": "markdown",
   "metadata": {},
   "source": [
    "Focusing on that equality equivalent:\n",
    "\n",
    "$$g_i(x) = b_i \\Leftrightarrow g_i(x) \\le b_i, g_i(x) \\le -b_i$$"
   ]
  },
  {
   "cell_type": "markdown",
   "metadata": {},
   "source": [
    "## Constraints\n",
    "\n",
    "We can break down two types of constraints:\n",
    "\n",
    "* Sign constraints, e.g. $x_i \\ge 0$, or $x_i \\le 0$\n",
    "* Or a functional constraint (all others)\n",
    "\n",
    "At a solution, a constraint is binding if:\n",
    "\n",
    "Let $g(\\cdot) \\le b$ be an inequality constraint, and $\\bar{x}$ be a solution. $g(\\cdot) \\le b$ is binding at $\\bar{x}$ if $g(\\bar{x}) = b$.\n",
    "\n",
    "(An equality constraint is always binding at any feasible solution.)"
   ]
  },
  {
   "cell_type": "markdown",
   "metadata": {},
   "source": [
    "# Practical examples\n",
    "\n",
    "One convention is to use lowercase letters for variables, and uppercase letters for parameters."
   ]
  },
  {
   "cell_type": "markdown",
   "metadata": {},
   "source": [
    "## Problem formulation\n",
    "\n",
    "* We produce desks and tables.\n",
    "    * Producing a desk requires three units of wood, one hour of labor, and 50 minutes of machine time.\n",
    "    * Producing a table requires five units of wood, two hours of labor, and 20 minutes of machine time.\n",
    "* We can sell everything we produce.\n",
    "* Each day, we have:\n",
    "    * Two hundred workers, each working for eight hours\n",
    "    * 50 machines that run for sixteen hours\n",
    "    * 3600 units of wood\n",
    "* Desks and tables are sold for $700 and $900 per unit, respectively.\n",
    "\n",
    "Let $x_1$ be how many desks we sell, and $x_2$ be how many tables we sell.\n",
    "\n",
    "Therefore our problem becomes:\n",
    "\n",
    "$$\n",
    "max (700x_1 + 900x_2) \\\\\n",
    "s.t. \\\\\n",
    "3x_1 + 5x_2 \\le 3600 \\\\\n",
    "1x_1 + 2x_2 \\le 200\\times8 \\\\\n",
    "50x_1 + 20x_2 \\le 50\\times16\\times60\n",
    "\n",
    "$$\n",
    "\n",
    "Or, framed in terms of minimisation:\n",
    "\n",
    "$$\n",
    "min (-700x_1 + -900x_2) \\\\\n",
    "s.t. \\\\\n",
    "3x_1 + 5x_2 \\le 3600 \\\\\n",
    "1x_1 + 2x_2 \\le 200\\times8 \\\\\n",
    "50x_1 + 20x_2 \\le 50\\times16\\times60\n",
    "\n",
    "$$\n",
    "\n",
    "And of course:\n",
    "\n",
    "$$\n",
    "x_1, x_2 \\ge 0\n",
    "$$\n",
    "\n",
    "We solve this in SciPy, noting that all inequalities must be framed in terms of \"less than equals\":"
   ]
  },
  {
   "cell_type": "code",
   "execution_count": 6,
   "metadata": {},
   "outputs": [
    {
     "data": {
      "text/plain": [
       "     con: array([], dtype=float64)\n",
       "     fun: -789473.6299514732\n",
       " message: 'Optimization terminated successfully.'\n",
       "     nit: 5\n",
       "   slack: array([2.47383124e-04, 3.36842192e+02, 3.30042907e-03])\n",
       "  status: 0\n",
       " success: True\n",
       "       x: array([884.2104655 , 189.47367122])"
      ]
     },
     "execution_count": 6,
     "metadata": {},
     "output_type": "execute_result"
    }
   ],
   "source": [
    "opt.linprog(\n",
    "    c=[-700, -900],\n",
    "    A_ub=[\n",
    "        [3, 5],\n",
    "        [1, 2],\n",
    "        [50, 20]\n",
    "    ],\n",
    "    b_ub=[\n",
    "        3600,\n",
    "        200*8,\n",
    "        50*16*60\n",
    "    ],\n",
    "    bounds=[\n",
    "        [0, None],\n",
    "        [0, None]\n",
    "    ]\n",
    ")"
   ]
  },
  {
   "cell_type": "markdown",
   "metadata": {},
   "source": [
    "As a follow-up, consider the following:\n",
    "\n",
    "* We produce and sell a product.\n",
    "* For the coming four days, we must fulfill the following demands:\n",
    "    * 100, 150, 250, and 170 units for days 1, 2, 3, and 4, respectively.\n",
    "* Unit production costs are different for different days.\n",
    "    * $9, $12, $10, and $12 for each day, respectively.\n",
    "* The prices are fixed, so maximising profits is the same as minimising costs.\n",
    "* We can store a product and sell it later, but the inventory cost is $1 a day."
   ]
  },
  {
   "cell_type": "markdown",
   "metadata": {},
   "source": [
    "If we assume that we won't have any inventory costs on day 4:"
   ]
  },
  {
   "cell_type": "code",
   "execution_count": null,
   "metadata": {},
   "outputs": [
    {
     "data": {
      "text/plain": [
       "     con: array([], dtype=float64)\n",
       "     fun: 7069.999999885983\n",
       " message: 'Optimization terminated successfully.'\n",
       "     nit: 6\n",
       "   slack: array([ 1.50000000e+02, -3.02472358e-09,  1.70000000e+02, -1.05836762e-08])\n",
       "  status: 0\n",
       " success: True\n",
       "       x: array([2.50000000e+02, 1.94070197e-10, 3.70000000e+02, 5.03929233e-09])"
      ]
     },
     "metadata": {},
     "output_type": "display_data"
    }
   ],
   "source": [
    "opt.linprog(\n",
    "    c=[(9+3), (12+2), (10+1), (12+0)],\n",
    "    A_ub=[\n",
    "        [-1, 0, 0, 0],\n",
    "        [-1, -1, 0, 0],\n",
    "        [-1, -1, -1, 0],\n",
    "        [-1, -1, -1, -1],\n",
    "    ],\n",
    "    b_ub=[\n",
    "        -(100),\n",
    "        -(100+150),\n",
    "        -(100+150+200),\n",
    "        -(100+150+200+170)\n",
    "    ],\n",
    "    bounds=[\n",
    "        [0, None],\n",
    "        [0, None],\n",
    "        [0, None],\n",
    "        [0, None],\n",
    "    ]\n",
    ")"
   ]
  },
  {
   "cell_type": "markdown",
   "metadata": {},
   "source": [
    "Note the slack that we have – the costs of production + storage are effectively the same at this point."
   ]
  },
  {
   "cell_type": "markdown",
   "metadata": {},
   "source": [
    "If we don't assume that our inventory costs stop at day 3..."
   ]
  },
  {
   "cell_type": "code",
   "execution_count": 30,
   "metadata": {},
   "outputs": [
    {
     "data": {
      "text/plain": [
       "     con: array([], dtype=float64)\n",
       "     fun: 7689.999999836162\n",
       " message: 'Optimization terminated successfully.'\n",
       "     nit: 6\n",
       "   slack: array([ 1.50000000e+02, -3.76186904e-09,  1.70000000e+02, -1.38753649e-08])\n",
       "  status: 0\n",
       " success: True\n",
       "       x: array([2.50000000e+02, 2.49332231e-10, 3.70000000e+02, 5.92945679e-09])"
      ]
     },
     "execution_count": 30,
     "metadata": {},
     "output_type": "execute_result"
    }
   ],
   "source": [
    "opt.linprog(\n",
    "    c=[(9+4), (12+3), (10+2), (12+1)],\n",
    "    A_ub=[\n",
    "        [-1, 0, 0, 0],\n",
    "        [-1, -1, 0, 0],\n",
    "        [-1, -1, -1, 0],\n",
    "        [-1, -1, -1, -1],\n",
    "    ],\n",
    "    b_ub=[\n",
    "        -(100),\n",
    "        -(100+150),\n",
    "        -(100+150+200),\n",
    "        -(100+150+200+170)\n",
    "    ],\n",
    "    bounds=[\n",
    "        [0, None],\n",
    "        [0, None],\n",
    "        [0, None],\n",
    "        [0, None],\n",
    "    ]\n",
    ")"
   ]
  },
  {
   "cell_type": "markdown",
   "metadata": {},
   "source": [
    "It's the same, goodness!"
   ]
  },
  {
   "cell_type": "markdown",
   "metadata": {},
   "source": [
    "### Personnel scheduling\n",
    "\n",
    "* We are scheduling employees in a department store.\n",
    "    * Each employee must work for five consecutive days and then take rests for two consecutive days.\n",
    "    * The number of employees required for each day is [110, 80, 150, 30, 70, 160, 120] for Monday to Sunday, respectively.\n",
    "    * There are seven shifts.\n",
    "* We want to minimize the number of employees hired."
   ]
  },
  {
   "cell_type": "code",
   "execution_count": 36,
   "metadata": {},
   "outputs": [
    {
     "data": {
      "text/plain": [
       "[[-1, -1, -1, -1, -1, 0, 0],\n",
       " [0, -1, -1, -1, -1, -1, 0],\n",
       " [0, 0, -1, -1, -1, -1, -1],\n",
       " [-1, 0, 0, -1, -1, -1, -1],\n",
       " [-1, -1, 0, 0, -1, -1, -1],\n",
       " [-1, -1, -1, 0, 0, -1, -1],\n",
       " [-1, -1, -1, -1, 0, 0, -1]]"
      ]
     },
     "execution_count": 36,
     "metadata": {},
     "output_type": "execute_result"
    }
   ],
   "source": [
    "base_schedule = [-1, -1, -1, -1, -1, 0, 0]\n",
    "\n",
    "def rotate(l: list, n: int):\n",
    "    return l[-n:] + l[:-n]\n",
    "\n",
    "schedules = [rotate(base_schedule, offset) for offset in range(0, 7)]\n",
    "schedules\n"
   ]
  },
  {
   "cell_type": "code",
   "execution_count": 39,
   "metadata": {},
   "outputs": [],
   "source": [
    "schedule_output = opt.linprog(\n",
    "    c=[1]*7,\n",
    "    A_ub=schedules,\n",
    "    b_ub=[\n",
    "        -110,\n",
    "        -80, \n",
    "        -150, \n",
    "        -30, \n",
    "        -70, \n",
    "        -160, \n",
    "        -120\n",
    "    ],\n",
    "    bounds=[\n",
    "        [0, None],\n",
    "        [0, None],\n",
    "        [0, None],\n",
    "        [0, None],\n",
    "        [0, None],\n",
    "        [0, None],\n",
    "        [0, None],\n",
    "    ]\n",
    ")"
   ]
  },
  {
   "cell_type": "code",
   "execution_count": 41,
   "metadata": {},
   "outputs": [
    {
     "data": {
      "text/plain": [
       "array([ 6,  6, 93,  0,  3, 18, 35])"
      ]
     },
     "execution_count": 41,
     "metadata": {},
     "output_type": "execute_result"
    }
   ],
   "source": [
    "schedule_output.x.astype(int)"
   ]
  },
  {
   "cell_type": "markdown",
   "metadata": {},
   "source": [
    "## And even more"
   ]
  },
  {
   "cell_type": "code",
   "execution_count": 64,
   "metadata": {},
   "outputs": [
    {
     "data": {
      "text/plain": [
       "     con: array([], dtype=float64)\n",
       "     fun: -3.9999999999990696\n",
       " message: 'Optimization terminated successfully.'\n",
       "     nit: 4\n",
       "   slack: array([3.72146758e-12, 1.26369196e+00])\n",
       "  status: 0\n",
       " success: True\n",
       "       x: array([ 1.05273839, -1.89452321])"
      ]
     },
     "execution_count": 64,
     "metadata": {},
     "output_type": "execute_result"
    }
   ],
   "source": [
    "opt.linprog(\n",
    "    c=[-2, 1],\n",
    "    A_ub=[\n",
    "        [8, -4],\n",
    "        [3, -4]\n",
    "    ],\n",
    "    b_ub=[16, 12],\n",
    "    bounds=[\n",
    "        [0, None],\n",
    "        [None, 0]\n",
    "    ]\n",
    "\n",
    ")"
   ]
  },
  {
   "cell_type": "code",
   "execution_count": 48,
   "metadata": {},
   "outputs": [
    {
     "data": {
      "text/plain": [
       "     con: array([], dtype=float64)\n",
       "     fun: -50.66666581860245\n",
       " message: 'Optimization terminated successfully.'\n",
       "     nit: 5\n",
       "   slack: array([2.73883806e-07, 3.13502998e-07, 2.46666661e+01])\n",
       "  status: 0\n",
       " success: True\n",
       "       x: array([14.66666641,  1.33333332])"
      ]
     },
     "execution_count": 48,
     "metadata": {},
     "output_type": "execute_result"
    }
   ],
   "source": [
    "opt.linprog(\n",
    "    c=[-3, -5],\n",
    "    A_ub=[\n",
    "        [1, 1],\n",
    "        [1, 4],\n",
    "        [-2, -1]\n",
    "    ],\n",
    "    b_ub=[16, 20, -6],\n",
    "    bounds=[\n",
    "        [0, None],\n",
    "        [0, None]\n",
    "    ]\n",
    "\n",
    ")"
   ]
  },
  {
   "cell_type": "code",
   "execution_count": 63,
   "metadata": {},
   "outputs": [
    {
     "data": {
      "text/plain": [
       "     con: array([], dtype=float64)\n",
       "     fun: -125.99999999573299\n",
       " message: 'Optimization terminated successfully.'\n",
       "     nit: 5\n",
       "   slack: array([2.20000000e+01, 3.32189387e-10])\n",
       "  status: 0\n",
       " success: True\n",
       "       x: array([3.31716238e-11, 7.00000000e+00])"
      ]
     },
     "execution_count": 63,
     "metadata": {},
     "output_type": "execute_result"
    }
   ],
   "source": [
    "opt.linprog(\n",
    "    c=[-9, -18],\n",
    "    A_ub=[\n",
    "        [7, 4],\n",
    "        [1/1.1, 1/0.7],\n",
    "    ],\n",
    "    b_ub=[50, 10],\n",
    "    bounds=[\n",
    "        [0, None],\n",
    "        [0, None]\n",
    "    ]\n",
    ")"
   ]
  },
  {
   "cell_type": "markdown",
   "metadata": {},
   "source": [
    "Alternatively, having a go at it with Pulp:"
   ]
  },
  {
   "cell_type": "code",
   "execution_count": 67,
   "metadata": {},
   "outputs": [],
   "source": [
    "import pulp"
   ]
  },
  {
   "cell_type": "code",
   "execution_count": 68,
   "metadata": {},
   "outputs": [
    {
     "name": "stderr",
     "output_type": "stream",
     "text": [
      "/Users/Goyder/.local/share/virtualenvs/ops-research-fbgn6z6J/lib/python3.8/site-packages/pulp/pulp.py:1352: UserWarning: Spaces are not permitted in the name. Converted to '_'\n",
      "  warnings.warn(\"Spaces are not permitted in the name. Converted to '_'\")\n"
     ]
    }
   ],
   "source": [
    "prob = pulp.LpProblem(\"Making chairs or tables\", pulp.LpMaximize)"
   ]
  },
  {
   "cell_type": "code",
   "execution_count": 70,
   "metadata": {},
   "outputs": [],
   "source": [
    "chairs = pulp.LpVariable(\"chairs\", 0, None)\n",
    "tables = pulp.LpVariable(\"tables\", 0, None)"
   ]
  },
  {
   "cell_type": "code",
   "execution_count": 71,
   "metadata": {},
   "outputs": [],
   "source": [
    "prob += 9*tables + 18*chairs\n",
    "prob += 7*tables + 4*chairs <= 50\n",
    "prob += (1/1.1)*tables + (1/0.7)*chairs <= 10"
   ]
  },
  {
   "cell_type": "code",
   "execution_count": 72,
   "metadata": {},
   "outputs": [
    {
     "name": "stdout",
     "output_type": "stream",
     "text": [
      "Welcome to the CBC MILP Solver \n",
      "Version: 2.10.3 \n",
      "Build Date: Dec 15 2019 \n",
      "\n",
      "command line - /Users/Goyder/.local/share/virtualenvs/ops-research-fbgn6z6J/lib/python3.8/site-packages/pulp/apis/../solverdir/cbc/osx/64/cbc /var/folders/g2/6w3bm3ts67nbv8gqz10hmcbh0000gn/T/2b67b68e22114b2ea091bfa938a047d8-pulp.mps max timeMode elapsed branch printingOptions all solution /var/folders/g2/6w3bm3ts67nbv8gqz10hmcbh0000gn/T/2b67b68e22114b2ea091bfa938a047d8-pulp.sol (default strategy 1)\n",
      "At line 2 NAME          MODEL\n",
      "At line 3 ROWS\n",
      "At line 7 COLUMNS\n",
      "At line 14 RHS\n",
      "At line 17 BOUNDS\n",
      "At line 18 ENDATA\n",
      "Problem MODEL has 2 rows, 2 columns and 4 elements\n",
      "Coin0008I MODEL read with 0 errors\n",
      "Option for timeMode changed from cpu to elapsed\n",
      "Presolve 2 (0) rows, 2 (0) columns and 4 (0) elements\n",
      "0  Obj -0 Dual inf 27 (2)\n",
      "0  Obj -0 Dual inf 27 (2)\n",
      "1  Obj 126\n",
      "Optimal - objective value 126\n",
      "Optimal objective 126 - 1 iterations time 0.002\n",
      "Option for printingOptions changed from normal to all\n",
      "Total time (CPU seconds):       0.00   (Wallclock seconds):       0.00\n",
      "\n"
     ]
    },
    {
     "data": {
      "text/plain": [
       "1"
      ]
     },
     "execution_count": 72,
     "metadata": {},
     "output_type": "execute_result"
    }
   ],
   "source": [
    "prob.solve()"
   ]
  },
  {
   "cell_type": "code",
   "execution_count": 80,
   "metadata": {},
   "outputs": [
    {
     "name": "stdout",
     "output_type": "stream",
     "text": [
      "chairs 7\n",
      "tables 0\n"
     ]
    }
   ],
   "source": [
    "for v in prob.variables():\n",
    "    print(v.name + \" \" + str(int(v.varValue)))"
   ]
  },
  {
   "cell_type": "code",
   "execution_count": null,
   "metadata": {},
   "outputs": [],
   "source": []
  }
 ],
 "metadata": {
  "interpreter": {
   "hash": "a36e27473de888c586fd5942bb2ba7fda2eceb6ae4c2b42497381109ca614c78"
  },
  "kernelspec": {
   "display_name": "Python 3.8.9 ('ops-research-fbgn6z6J')",
   "language": "python",
   "name": "python3"
  },
  "language_info": {
   "codemirror_mode": {
    "name": "ipython",
    "version": 3
   },
   "file_extension": ".py",
   "mimetype": "text/x-python",
   "name": "python",
   "nbconvert_exporter": "python",
   "pygments_lexer": "ipython3",
   "version": "3.8.9"
  },
  "orig_nbformat": 4
 },
 "nbformat": 4,
 "nbformat_minor": 2
}

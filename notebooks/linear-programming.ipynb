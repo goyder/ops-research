{
 "cells": [
  {
   "cell_type": "markdown",
   "metadata": {},
   "source": [
    "# Linear programming\n",
    "\n",
    "Linear programming tends to be the first place that teaching for OR begins."
   ]
  },
  {
   "cell_type": "code",
   "execution_count": 2,
   "metadata": {},
   "outputs": [],
   "source": [
    "import scipy.optimize as opt"
   ]
  },
  {
   "cell_type": "markdown",
   "metadata": {},
   "source": [
    "## Basic elements\n",
    "\n",
    "We compose the mathematical program out of:\n",
    "\n",
    "1. The objective function – e.g. $$\\min f(x_1, x_2, \\ldots, x_n)$$\n",
    "2. The constraints – e.g. $$s.t.\\ \\ g_i(x_1, x_2, \\ldots,x_n) \\le b_i\\ \\ \\forall i=1, \\ldots, m$$\n",
    "3. The decision variable – e.g. $$x_j \\isin \\mathbb{R}\\ \\ \\forall j = 1, \\ldots , n$$"
   ]
  },
  {
   "cell_type": "markdown",
   "metadata": {},
   "source": [
    "(The decision variable is the actual decision we make – numbers of items, yes or no, etc.)"
   ]
  },
  {
   "cell_type": "markdown",
   "metadata": {},
   "source": [
    "$x$ is going to take the format of a vector of decision variables, or our *decision vector*, e.g. $$x = \\begin{bmatrix}x_{1} \\\\\n",
    "\\vdots \\\\\n",
    "x_{n}\\end{bmatrix}$$"
   ]
  },
  {
   "cell_type": "markdown",
   "metadata": {},
   "source": [
    "A mathematical program is a LP if $f$ and $g$ are all **linear** functions."
   ]
  },
  {
   "cell_type": "markdown",
   "metadata": {},
   "source": [
    "### Linear functions\n",
    "\n",
    "Each linear function may be expressed as $$a_1x_1 + a_2x_2 + \\cdots + a_nx_n = \\sum_{j=1}^n a_jx_j$$"
   ]
  },
  {
   "cell_type": "markdown",
   "metadata": {},
   "source": [
    "## Three types\n",
    "\n",
    "Any LP must be:\n",
    "* Infeasible (i.e. its feasible region is empty)\n",
    "* Unbounded (i.e. for any feasible solution, there is another feasible solution that is better)\n",
    "* Finitely optimal (i.e. it has an optimal solution)\n",
    "\n",
    "A finitely optimal LP may have:\n",
    "* A unique optimal solution\n",
    "* Multiple optimal solutions"
   ]
  },
  {
   "cell_type": "markdown",
   "metadata": {},
   "source": [
    "## Transforming minimisation to maximisation"
   ]
  },
  {
   "cell_type": "markdown",
   "metadata": {},
   "source": [
    "If ever we need to reframe a minimisation problem as a maximisation problem, it is relatively straightforward:"
   ]
  },
  {
   "cell_type": "markdown",
   "metadata": {},
   "source": [
    "$$ max\\ f(x) \\Leftrightarrow min -f(x)$$\n",
    "\n",
    "And to adapt our constraints:\n",
    "\n",
    "$$ max\\ \\ x_1 - x_2 \\\\\n",
    "s.t.\\ \\ -2x_1 + x_2 \\ge -3 \\\\\n",
    "x_1 + 4x_2 = 5 \\\\\n",
    "\\ \\\\\n",
    "\\Leftrightarrow \\\\\n",
    "\\ \\\\\n",
    "min\\ \\ -x_1 + x_2 \\\\\n",
    "s.t.\\ \\ 2x_1 - x_2 \\le 3 \\\\\n",
    "x_1 + 4x_2 \\le 5 \\\\\n",
    "-x_1 - 4x_2 \\le -5 $$"
   ]
  },
  {
   "cell_type": "markdown",
   "metadata": {},
   "source": [
    "Focusing on that equality equivalent:\n",
    "\n",
    "$$g_i(x) = b_i \\Leftrightarrow g_i(x) \\le b_i, g_i(x) \\le -b_i$$"
   ]
  },
  {
   "cell_type": "markdown",
   "metadata": {},
   "source": [
    "## Constraints\n",
    "\n",
    "We can break down two types of constraints:\n",
    "\n",
    "* Sign constraints, e.g. $x_i \\ge 0$, or $x_i \\le 0$\n",
    "* Or a functional constraint (all others)\n",
    "\n",
    "At a solution, a constraint is binding if:\n",
    "\n",
    "Let $g(\\cdot) \\le b$ be an inequality constraint, and $\\bar{x}$ be a solution. $g(\\cdot) \\le b$ is binding at $\\bar{x}$ if $g(\\bar{x}) = b$.\n",
    "\n",
    "(An equality constraint is always binding at any feasible solution.)"
   ]
  },
  {
   "cell_type": "markdown",
   "metadata": {},
   "source": []
  }
 ],
 "metadata": {
  "interpreter": {
   "hash": "a36e27473de888c586fd5942bb2ba7fda2eceb6ae4c2b42497381109ca614c78"
  },
  "kernelspec": {
   "display_name": "Python 3.8.9 ('ops-research-fbgn6z6J')",
   "language": "python",
   "name": "python3"
  },
  "language_info": {
   "codemirror_mode": {
    "name": "ipython",
    "version": 3
   },
   "file_extension": ".py",
   "mimetype": "text/x-python",
   "name": "python",
   "nbconvert_exporter": "python",
   "pygments_lexer": "ipython3",
   "version": "3.8.9"
  },
  "orig_nbformat": 4
 },
 "nbformat": 4,
 "nbformat_minor": 2
}

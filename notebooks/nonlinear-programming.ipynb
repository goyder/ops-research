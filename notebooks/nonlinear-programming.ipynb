{
 "cells": [
  {
   "cell_type": "markdown",
   "metadata": {},
   "source": [
    "# Nonlinear programming\n",
    "\n",
    "We essentially define non-linear programming as a program that has a non-linear component (e.g. a quadratic, absolute values, etc) in the optimisation goal or constraints."
   ]
  },
  {
   "cell_type": "markdown",
   "metadata": {},
   "source": [
    "## Portfolio optimisation \n",
    "\n",
    "In the case of portfolio optimisation, we seek to achieve a minimum expected revenue, $R$ using our budget, $B$. We also want to minimise the risk (in this case, variance, $\\sigma_i$) associated with our selection."
   ]
  },
  {
   "cell_type": "markdown",
   "metadata": {},
   "source": [
    "$$\n",
    "min \\quad \\sum_{i=1}^{n}\\sigma_i^2x_i^2 \\\\\n",
    "s.t. \\quad \\sum_{i=1}^{n}P_ix_i \\le B \\\\\n",
    " \\quad \\sum_{i=1}^{n}u_ix_i \\ge R \\\\\n",
    "x_i \\ge 0 \\quad \\forall i = 1, \\cdots, n"
   ]
  },
  {
   "cell_type": "markdown",
   "metadata": {},
   "source": [
    "## Linearising an absolute value function"
   ]
  },
  {
   "cell_type": "markdown",
   "metadata": {},
   "source": [
    "How do you formulate the fair allocation of some cash, $C$, between two people?"
   ]
  },
  {
   "cell_type": "markdown",
   "metadata": {},
   "source": [
    "$$\n",
    "min |x_2 - x_1| \\\\\n",
    "s.t. x_1 + x_2 = C \\\\\n",
    "x_i \\ge 0 \\forall 1, 2\n",
    "\n",
    "$$"
   ]
  },
  {
   "cell_type": "markdown",
   "metadata": {},
   "source": [
    "Noting that $|x_2 - x_1| = max\\{x_2-x_1, x_1-x_2\\}$ we can reframe this as"
   ]
  },
  {
   "cell_type": "markdown",
   "metadata": {},
   "source": [
    "$$\n",
    "min \\quad w \\\\\n",
    "s.t.\\quad w \\ge x_2 - x_1 \\\\\n",
    "w \\ge x_1 - x_2 \\\\\n",
    "x_1 + x_2 = C \\\\\n",
    "x_i \\ge 0 \\forall 1, 2\n",
    "\n",
    "$$"
   ]
  },
  {
   "cell_type": "markdown",
   "metadata": {},
   "source": [
    "## Linearising a maximum function"
   ]
  },
  {
   "cell_type": "markdown",
   "metadata": {},
   "source": [
    "When a maximum function is at the smaller side of an inequality:\n",
    "\n",
    "$$\n",
    "y \\ge max\\{x_1, x_2\\} \\quad \\leftrightarrow \\quad y \\ge x_1, y \\ge x_2\n",
    "\n",
    "$$"
   ]
  },
  {
   "cell_type": "markdown",
   "metadata": {},
   "source": [
    "And $y_1$, $x_1$, $x_2$ can be variables, parameters, or a function of them."
   ]
  },
  {
   "cell_type": "markdown",
   "metadata": {},
   "source": [
    "Likewise, a minimum function at the larger side can be linearised, e.g.\n",
    "\n",
    "$$\n",
    "y+x_1 \\le min \\{ x_1 - x_3, 2 x_2 + 4, 0 \\} \\\\\n",
    "\\leftrightarrow \\\\\n",
    "y+x_1 \\le x_1 - x_3, 2 x_2 + 4 \\\\\n",
    "y+x_1 \\le 0 \\\\\n",
    "\n",
    "\n",
    "$$"
   ]
  },
  {
   "cell_type": "markdown",
   "metadata": {},
   "source": [
    "But this doesn't apply to situations where:\n",
    "\n",
    "* A maximum function is on the larger side, e.g. $y \\le max \\{ x_1, x_2 \\}$\n",
    "* A minimum function is on the smaller side, e.g. $y \\ge min \\{ x_1, x_2 \\}$\n",
    "* A max/min function is in an equality."
   ]
  },
  {
   "cell_type": "markdown",
   "metadata": {},
   "source": [
    "We can extend this concept to our object functions, i.e. if we want to minimise a maximum function, $min \\quad max \\{x_1, x_2\\}$, we can convert it to:\n",
    "\n",
    "$$\n",
    "min\\quad w \\\\\n",
    "s.t.\\quad w \\ge x_1 \\\\\n",
    "\\quad w \\ge x_2\n",
    "$$\n",
    "\n",
    "or, in another example,\n",
    "\n",
    "$$ \n",
    "max \\quad min \\{ x_1, x_2, 2_x3 + 5\\} + x_4 \\\\\n",
    "s.t. \\quad 2_x1 + x_2 - x_4 \\le x_3 \n",
    "$$\n",
    "\n",
    "becomes \n",
    "\n",
    "$$\n",
    "max \\quad w + x_4 \\\\\n",
    "s.t.\\quad w \\le x_1 \\\\\n",
    "w \\le x_2 \\\\\n",
    "x \\le 2x_3 + 5 \\\\\n",
    "2_x1 + x_2 - x_4 \\le x_3 \n",
    "$$"
   ]
  }
 ],
 "metadata": {
  "language_info": {
   "name": "python"
  },
  "orig_nbformat": 4
 },
 "nbformat": 4,
 "nbformat_minor": 2
}

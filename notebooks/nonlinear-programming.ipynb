{
 "cells": [
  {
   "cell_type": "markdown",
   "metadata": {},
   "source": [
    "# Nonlinear programming\n",
    "\n",
    "We essentially define non-linear programming as a program that has a non-linear component (e.g. a quadratic, absolute values, etc) in the optimisation goal or constraints."
   ]
  },
  {
   "cell_type": "markdown",
   "metadata": {},
   "source": [
    "## Portfolio optimisation \n",
    "\n",
    "In the case of portfolio optimisation, we seek to achieve a minimum expected revenue, $R$ using our budget, $B$. We also want to minimise the risk (in this case, variance, $\\sigma_i$) associated with our selection."
   ]
  },
  {
   "cell_type": "markdown",
   "metadata": {},
   "source": [
    "$$\n",
    "min \\quad \\sum_{i=1}^{n}\\sigma_i^2x_i^2 \\\\\n",
    "s.t. \\quad \\sum_{i=1}^{n}P_ix_i \\le B \\\\\n",
    " \\quad \\sum_{i=1}^{n}u_ix_i \\ge R \\\\\n",
    "x_i \\ge 0 \\quad \\forall i = 1, \\cdots, n"
   ]
  },
  {
   "cell_type": "markdown",
   "metadata": {},
   "source": [
    "## Linearising an absolute value function"
   ]
  },
  {
   "cell_type": "markdown",
   "metadata": {},
   "source": [
    "How do you formulate the fair allocation of some cash, $C$, between two people?"
   ]
  },
  {
   "cell_type": "markdown",
   "metadata": {},
   "source": [
    "$$\n",
    "min |x_2 - x_1| \\\\\n",
    "s.t. x_1 + x_2 = C \\\\\n",
    "x_i \\ge 0 \\forall 1, 2\n",
    "\n",
    "$$"
   ]
  },
  {
   "cell_type": "markdown",
   "metadata": {},
   "source": [
    "Noting that $|x_2 - x_1| = max\\{x_2-x_1, x_1-x_2\\}$ we can reframe this as"
   ]
  },
  {
   "cell_type": "markdown",
   "metadata": {},
   "source": [
    "$$\n",
    "min \\quad w \\\\\n",
    "s.t.\\quad w \\ge x_2 - x_1 \\\\\n",
    "w \\ge x_1 - x_2 \\\\\n",
    "x_1 + x_2 = C \\\\\n",
    "x_i \\ge 0 \\forall 1, 2\n",
    "\n",
    "$$"
   ]
  },
  {
   "cell_type": "markdown",
   "metadata": {},
   "source": [
    "## Linearising a maximum function"
   ]
  },
  {
   "cell_type": "markdown",
   "metadata": {},
   "source": [
    "When a maximum function is at the smaller side of an inequality:\n",
    "\n",
    "$$\n",
    "y \\ge max\\{x_1, x_2\\} \\quad \\leftrightarrow \\quad y \\ge x_1, y \\ge x_2\n",
    "\n",
    "$$"
   ]
  },
  {
   "cell_type": "markdown",
   "metadata": {},
   "source": [
    "And $y_1$, $x_1$, $x_2$ can be variables, parameters, or a function of them."
   ]
  },
  {
   "cell_type": "markdown",
   "metadata": {},
   "source": [
    "Likewise, a minimum function at the larger side can be linearised, e.g.\n",
    "\n",
    "$$\n",
    "y+x_1 \\le min \\{ x_1 - x_3, 2 x_2 + 4, 0 \\} \\\\\n",
    "\\leftrightarrow \\\\\n",
    "y+x_1 \\le x_1 - x_3, 2 x_2 + 4 \\\\\n",
    "y+x_1 \\le 0 \\\\\n",
    "\n",
    "\n",
    "$$"
   ]
  },
  {
   "cell_type": "markdown",
   "metadata": {},
   "source": [
    "But this doesn't apply to situations where:\n",
    "\n",
    "* A maximum function is on the larger side, e.g. $y \\le max \\{ x_1, x_2 \\}$\n",
    "* A minimum function is on the smaller side, e.g. $y \\ge min \\{ x_1, x_2 \\}$\n",
    "* A max/min function is in an equality."
   ]
  },
  {
   "cell_type": "markdown",
   "metadata": {},
   "source": [
    "We can extend this concept to our object functions, i.e. if we want to minimise a maximum function, $min \\quad max \\{x_1, x_2\\}$, we can convert it to:\n",
    "\n",
    "$$\n",
    "min\\quad w \\\\\n",
    "s.t.\\quad w \\ge x_1 \\\\\n",
    "\\quad w \\ge x_2\n",
    "$$\n",
    "\n",
    "or, in another example,\n",
    "\n",
    "$$ \n",
    "max \\quad min \\{ x_1, x_2, 2_x3 + 5\\} + x_4 \\\\\n",
    "s.t. \\quad 2_x1 + x_2 - x_4 \\le x_3 \n",
    "$$\n",
    "\n",
    "becomes \n",
    "\n",
    "$$\n",
    "max \\quad w + x_4 \\\\\n",
    "s.t.\\quad w \\le x_1 \\\\\n",
    "w \\le x_2 \\\\\n",
    "x \\le 2x_3 + 5 \\\\\n",
    "2_x1 + x_2 - x_4 \\le x_3 \n",
    "$$"
   ]
  },
  {
   "cell_type": "markdown",
   "metadata": {},
   "source": [
    "Tying this back into **absolute value functions**, we note that $|x| = max \\{ x, -x \\}$."
   ]
  },
  {
   "cell_type": "markdown",
   "metadata": {},
   "source": [
    "## Products of decision variables\n",
    "\n",
    "Sometimes we see products of decision variables, i.e. $xy$.\n",
    "\n",
    "This can be linearised if the two variables are:\n",
    "* A binary variable and a continuous variable\n",
    "* Two binary variables\n",
    "\n",
    "Two continuous variables cannot be linearised."
   ]
  },
  {
   "cell_type": "markdown",
   "metadata": {},
   "source": [
    "## Solving a non-linear problem\n",
    "\n",
    "We can't solve this with our traditional solutions, so we'll put it in the ol' black box optimizer."
   ]
  },
  {
   "cell_type": "code",
   "execution_count": 11,
   "metadata": {},
   "outputs": [],
   "source": [
    "import scipy.optimize as opt\n",
    "import pandas as pd"
   ]
  },
  {
   "cell_type": "code",
   "execution_count": 2,
   "metadata": {},
   "outputs": [],
   "source": [
    "df_xy = pd.DataFrame({\n",
    "    \"x\": [38, 56, 50, 52, 37, 60, 67, 54, 59, 43, 30, 53, 59, 40, 65],\n",
    "    \"y\": [137, 201, 152, 107, 150, 173, 194, 166, 154, 137, 38, 193, 154, 175, 247]\n",
    "})"
   ]
  },
  {
   "cell_type": "code",
   "execution_count": 18,
   "metadata": {},
   "outputs": [],
   "source": [
    "def sum_squared(x: list, df: pd.DataFrame):\n",
    "    alpha, beta = x\n",
    "    df[\"squared_error\"] = (df[\"y\"] - alpha - df[\"x\"]*beta)**2\n",
    "    \n",
    "    return sum(df[\"squared_error\"])"
   ]
  },
  {
   "cell_type": "code",
   "execution_count": 19,
   "metadata": {},
   "outputs": [
    {
     "data": {
      "text/plain": [
       "      fun: 15840.360379889156\n",
       " hess_inv: array([[ 7.98099034e-01, -1.50346771e-02],\n",
       "       [-1.50346771e-02,  2.95570164e-04]])\n",
       "      jac: array([0., 0.])\n",
       "  message: 'Optimization terminated successfully.'\n",
       "     nfev: 15\n",
       "      nit: 4\n",
       "     njev: 5\n",
       "   status: 0\n",
       "  success: True\n",
       "        x: array([6.86937853, 2.981598  ])"
      ]
     },
     "execution_count": 19,
     "metadata": {},
     "output_type": "execute_result"
    }
   ],
   "source": [
    "opt.minimize(\n",
    "    sum_squared,\n",
    "    x0=[0., 0.],\n",
    "    args=df_xy\n",
    ")"
   ]
  },
  {
   "cell_type": "code",
   "execution_count": 21,
   "metadata": {},
   "outputs": [],
   "source": [
    "df_xy[\"y_hat\"] = df_xy[\"x\"]*2.981598 + 6.86937853"
   ]
  }
 ],
 "metadata": {
  "interpreter": {
   "hash": "a36e27473de888c586fd5942bb2ba7fda2eceb6ae4c2b42497381109ca614c78"
  },
  "kernelspec": {
   "display_name": "Python 3.8.9 ('ops-research-fbgn6z6J')",
   "language": "python",
   "name": "python3"
  },
  "language_info": {
   "codemirror_mode": {
    "name": "ipython",
    "version": 3
   },
   "file_extension": ".py",
   "mimetype": "text/x-python",
   "name": "python",
   "nbconvert_exporter": "python",
   "pygments_lexer": "ipython3",
   "version": "3.8.9"
  },
  "orig_nbformat": 4
 },
 "nbformat": 4,
 "nbformat_minor": 2
}

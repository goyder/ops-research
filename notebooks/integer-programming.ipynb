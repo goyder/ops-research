{
 "cells": [
  {
   "cell_type": "markdown",
   "metadata": {},
   "source": [
    "# Integer programming"
   ]
  },
  {
   "cell_type": "markdown",
   "metadata": {},
   "source": [
    "With integer programming, we now allow discrete values in our linear programs.\n",
    "\n",
    "This can be useful for including:\n",
    "- Set-up costs (i.e. the first item is expensive, but then each item is a subsequent linear cost).\n",
    "- Facility location\n",
    "- Machine scheduling\n",
    "\n",
    "Broadly speaking, it's useful for selection and assignment."
   ]
  },
  {
   "cell_type": "markdown",
   "metadata": {},
   "source": [
    "## More specific definitions\n",
    "\n",
    "If we formulate and solve a model with integer variables, it's Integer Programming.\n",
    "\n",
    "This is typically a linear IP (LIP)\n",
    "\n",
    "But if we have a nonlinear objective function or a functional constraint, it's a nonlinear (NLIP).\n"
   ]
  },
  {
   "cell_type": "markdown",
   "metadata": {},
   "source": [
    "## An example: The knapsack problem, revisited\n",
    "\n",
    "Say we have four items with values and weights:\n",
    "\n",
    "* Item 1, $16 and 5kg\n",
    "* Item 2, $22 and 7kg\n",
    "* Item 3, $12 and 4kg\n",
    "* Item 4, $8 and 3kg\n",
    "\n",
    "The knapsack capacity is 10kg."
   ]
  },
  {
   "cell_type": "code",
   "execution_count": 12,
   "metadata": {},
   "outputs": [],
   "source": [
    "import pulp"
   ]
  },
  {
   "cell_type": "code",
   "execution_count": 9,
   "metadata": {},
   "outputs": [],
   "source": [
    "prob = pulp.LpProblem(\"Knapsack\", pulp.LpMaximize)\n",
    "\n",
    "item1 = pulp.LpVariable(\"Item1\", 0, 1, pulp.LpInteger)\n",
    "item2 = pulp.LpVariable(\"Item2\", 0, 1, pulp.LpInteger)\n",
    "item3 = pulp.LpVariable(\"Item3\", 0, 1, pulp.LpInteger)\n",
    "item4 = pulp.LpVariable(\"Item4\", 0, 1, pulp.LpInteger)\n",
    "\n",
    "prob += (item1*16 + item2*22 + item3*12 + item4*8, \"ValueMaximisation\")\n",
    "prob += (item1*5 + item2*7 + item3*4 + item4*3 <= 10.0, \"WeightLimit\")"
   ]
  },
  {
   "cell_type": "code",
   "execution_count": 10,
   "metadata": {},
   "outputs": [
    {
     "name": "stdout",
     "output_type": "stream",
     "text": [
      "Welcome to the CBC MILP Solver \n",
      "Version: 2.10.3 \n",
      "Build Date: Dec 15 2019 \n",
      "\n",
      "command line - /Users/Goyder/.local/share/virtualenvs/ops-research-fbgn6z6J/lib/python3.8/site-packages/pulp/apis/../solverdir/cbc/osx/64/cbc /var/folders/g2/6w3bm3ts67nbv8gqz10hmcbh0000gn/T/4c16615f7296460b9286dc99a33350bd-pulp.mps max timeMode elapsed branch printingOptions all solution /var/folders/g2/6w3bm3ts67nbv8gqz10hmcbh0000gn/T/4c16615f7296460b9286dc99a33350bd-pulp.sol (default strategy 1)\n",
      "At line 2 NAME          MODEL\n",
      "At line 3 ROWS\n",
      "At line 6 COLUMNS\n",
      "At line 23 RHS\n",
      "At line 25 BOUNDS\n",
      "At line 30 ENDATA\n",
      "Problem MODEL has 1 rows, 4 columns and 4 elements\n",
      "Coin0008I MODEL read with 0 errors\n",
      "Option for timeMode changed from cpu to elapsed\n",
      "Continuous objective value is 31.7143 - 0.00 seconds\n",
      "Cgl0004I processed model has 1 rows, 4 columns (4 integer (4 of which binary)) and 4 elements\n",
      "Cutoff increment increased from 1e-05 to 1.9999\n",
      "Cbc0038I Initial state - 1 integers unsatisfied sum - 0.285714\n",
      "Cbc0038I Pass   1: suminf.    0.28571 (1) obj. -31.7143 iterations 0\n",
      "Cbc0038I Solution found of -16\n",
      "Cbc0038I Rounding solution of -24 is better than previous of -16\n",
      "\n",
      "Cbc0038I Before mini branch and bound, 3 integers at bound fixed and 0 continuous\n",
      "Cbc0038I Mini branch and bound did not improve solution (0.02 seconds)\n",
      "Cbc0038I Round again with cutoff of -26.5713\n",
      "Cbc0038I Pass   2: suminf.    0.28571 (1) obj. -31.7143 iterations 0\n",
      "Cbc0038I Pass   3: suminf.    0.48052 (1) obj. -26.5713 iterations 1\n",
      "Cbc0038I Pass   4: suminf.    0.48052 (1) obj. -26.5713 iterations 0\n",
      "Cbc0038I Pass   5: suminf.    0.40000 (1) obj. -29.6 iterations 4\n",
      "Cbc0038I Pass   6: suminf.    0.29870 (1) obj. -26.5713 iterations 2\n",
      "Cbc0038I Pass   7: suminf.    0.42857 (1) obj. -29.4286 iterations 1\n",
      "Cbc0038I Pass   8: suminf.    0.29870 (1) obj. -26.5713 iterations 1\n",
      "Cbc0038I Pass   9: suminf.    0.42857 (1) obj. -29.4286 iterations 1\n",
      "Cbc0038I Pass  10: suminf.    0.40000 (1) obj. -29.6 iterations 1\n",
      "Cbc0038I Pass  11: suminf.    0.40000 (1) obj. -29.6 iterations 0\n",
      "Cbc0038I Pass  12: suminf.    0.40000 (1) obj. -29.6 iterations 0\n",
      "Cbc0038I Pass  13: suminf.    0.40000 (1) obj. -29.6 iterations 0\n",
      "Cbc0038I Pass  14: suminf.    0.40000 (1) obj. -29.6 iterations 0\n",
      "Cbc0038I Pass  15: suminf.    0.40000 (1) obj. -29.6 iterations 0\n",
      "Cbc0038I Pass  16: suminf.    0.40000 (1) obj. -29.6 iterations 0\n",
      "Cbc0038I Pass  17: suminf.    0.40000 (1) obj. -29.6 iterations 0\n",
      "Cbc0038I Pass  18: suminf.    0.00000 (0) obj. -28 iterations 2\n",
      "Cbc0038I Solution found of -28\n",
      "Cbc0038I Before mini branch and bound, 0 integers at bound fixed and 0 continuous\n",
      "Cbc0038I Full problem 1 rows 4 columns, reduced to 1 rows 4 columns\n",
      "Cbc0038I Mini branch and bound improved solution from -28 to -30 (0.02 seconds)\n",
      "Cbc0038I After 0.02 seconds - Feasibility pump exiting with objective of -30 - took 0.00 seconds\n",
      "Cbc0012I Integer solution of -30 found by feasibility pump after 0 iterations and 0 nodes (0.02 seconds)\n",
      "Cbc0001I Search completed - best objective -30, took 1 iterations and 0 nodes (0.02 seconds)\n",
      "Cbc0035I Maximum depth 0, 3 variables fixed on reduced cost\n",
      "Cuts at root node changed objective from -31.7143 to -16\n",
      "Probing was tried 0 times and created 0 cuts of which 0 were active after adding rounds of cuts (0.000 seconds)\n",
      "Gomory was tried 0 times and created 0 cuts of which 0 were active after adding rounds of cuts (0.000 seconds)\n",
      "Knapsack was tried 0 times and created 0 cuts of which 0 were active after adding rounds of cuts (0.000 seconds)\n",
      "Clique was tried 0 times and created 0 cuts of which 0 were active after adding rounds of cuts (0.000 seconds)\n",
      "MixedIntegerRounding2 was tried 0 times and created 0 cuts of which 0 were active after adding rounds of cuts (0.000 seconds)\n",
      "FlowCover was tried 0 times and created 0 cuts of which 0 were active after adding rounds of cuts (0.000 seconds)\n",
      "TwoMirCuts was tried 0 times and created 0 cuts of which 0 were active after adding rounds of cuts (0.000 seconds)\n",
      "ZeroHalf was tried 0 times and created 0 cuts of which 0 were active after adding rounds of cuts (0.000 seconds)\n",
      "\n",
      "Result - Optimal solution found\n",
      "\n",
      "Objective value:                30.00000000\n",
      "Enumerated nodes:               0\n",
      "Total iterations:               1\n",
      "Time (CPU seconds):             0.00\n",
      "Time (Wallclock seconds):       0.02\n",
      "\n",
      "Option for printingOptions changed from normal to all\n",
      "Total time (CPU seconds):       0.01   (Wallclock seconds):       0.03\n",
      "\n"
     ]
    },
    {
     "data": {
      "text/plain": [
       "1"
      ]
     },
     "execution_count": 10,
     "metadata": {},
     "output_type": "execute_result"
    }
   ],
   "source": [
    "prob.solve()"
   ]
  },
  {
   "cell_type": "code",
   "execution_count": 11,
   "metadata": {},
   "outputs": [
    {
     "name": "stdout",
     "output_type": "stream",
     "text": [
      "Item1 = 0.0\n",
      "Item2 = 1.0\n",
      "Item3 = 0.0\n",
      "Item4 = 1.0\n"
     ]
    }
   ],
   "source": [
    "# Each of the variables is printed with it's resolved optimum value\n",
    "for v in prob.variables():\n",
    "    print(v.name, \"=\", v.varValue)"
   ]
  },
  {
   "cell_type": "markdown",
   "metadata": {},
   "source": [
    "## Integer programming formulation\n",
    "\n",
    "The use of integers allows us to define a lot of interesting constraints.\n",
    "\n",
    "Say we have a set of binary variables, $x_i, \\{0, 1\\}, \\forall_i = 1,\\cdots, 4$.\n",
    "\n",
    "If we must select at least one item among items 2, 3, and 4: $$x_2 + x_3 + x_4 \\ge 1$$\n",
    "\n",
    "If we must select at most two items among items 1, 3, and 4: $$x_1 + x_3 + x_4 \\le 2$$\n",
    "\n",
    "If we must select item 2 or item 3: $$x_2 + x_3 \\ge 1$$\n",
    "\n",
    "Select item 2, otherwise select items 3 and 4 together: $$2x_2 + x_3 + x_4 \\ge 2$$\n",
    "\n",
    "If item 2 is selected, select item 3: $$x_2 \\le x_3$$\n",
    "\n",
    "If item 1 is selected, do not select items 3 and 4: $$2(1-x_1) \\ge x_3 + x_4$$"
   ]
  },
  {
   "cell_type": "markdown",
   "metadata": {},
   "source": [
    "**At least/most some constraints**\n",
    "\n",
    "Suppose we want to satisfy one of the two constraints, $g_1(x)\\le b_1$ and $g_2(x) \\le b_2$.\n",
    "\n",
    "We can define binary variables:\n",
    "\n",
    "$$\n",
    "z_1 = 1 \\text{ if constraint 1 is satisfied or 0 otherwise}\\\\\n",
    "z_2 = 1 \\text{ if constraint 2 is satisfied or 0 otherwise}\n",
    "$$\n",
    "\n",
    "With $M_i$ being an upper bound of each LHS, the following two constraints implement what we need:\n",
    "\n",
    "$$\n",
    "g_1(x) - b_1 \\le M(1-z_1)\\\\\n",
    "g_2(x) - b_2 \\le M(1-z_2)\\\\\n",
    "z_1 + z_2 \\ge 1\\\\\n",
    "z_1, z_2 \\in \\{0, 1\\}\n",
    "$$"
   ]
  },
  {
   "cell_type": "markdown",
   "metadata": {},
   "source": [
    "## Fixed-charge constraints, or set-up costs\n",
    "\n",
    "Consider the setup cost at factory $i$, $S_i$. You need to pay this setup cost as long as any positive amount of products is produced.\n",
    "\n",
    "As a first run, let the decision variables be \n",
    "\n",
    "$$x_i = \\text{Production quantity at factory } i, i=1, \\ldots, n,\\\\\n",
    "y_i = \\begin{cases}\n",
    "1 \\text{\\quad if some productions are produced at factory }i, i=1,\\ldots,n,\\\\\n",
    "0 \\text{\\quad o/w.}\n",
    "\\end{cases}$$\n",
    "\n",
    "And the objective function:\n",
    "\n",
    "$$min \\sum_{i=1}^n C_i x_i + \\sum_{i=1}^n S_i y_i $$\n",
    "\n",
    "And we have some kind of capacity and demand constraints:\n",
    "$$ x_i \\le K_i \\forall i = 1,\\ldots,n \\\\\n",
    "\\sum_{i=1}^n x_i \\ge D$$\n",
    "\n",
    "And to factor in the setup costs, we modify the capacity:\n",
    "$$x_i \\le K_iy_i \\quad \\forall i=1,\\ldots,n$$\n",
    "\n",
    "(This creates our general \"fixed charge constraint\" – $x_i \\le K_i y_i$, where K_i is the upper bound.)\n",
    "\n",
    "And our binary and nonnegative constraints:\n",
    "\n",
    "$$x_i \\ge 0\\\\ y \\in \\{0, 1\\} \\quad \\forall i=1, \\ldots,n$$"
   ]
  },
  {
   "cell_type": "markdown",
   "metadata": {},
   "source": [
    "## Extending setup costs to an application: Minimum covering problems\n",
    "\n",
    "Consider a set of demands, $I$, and a set of locations, $J$.\n",
    "\n",
    "The distance between demand $i$ and location $j$ is $d_ij \\gt 0, i \\isin I, j \\isin J$.\n",
    "\n",
    "A service level $s>0$ is given; demand $i$ is \"covered\" by location $j$ if $d_{ij} \\lt s$.\n",
    "\n",
    "How do you allocate as few facilities as possible to cover all demands?"
   ]
  },
  {
   "cell_type": "markdown",
   "metadata": {},
   "source": [
    "We define a new parameter, $a_{ij} = 1$ if $d_{ij} < s$, or $0$ otherwise. $i\\isin I, j \\isin J$.\n",
    "\n",
    "$x_j=1$ if a facility is built at location $j \\isin J$, or $0$ otherwise.\n",
    "\n",
    "Therefore our formulation becomes \n",
    "\n",
    "$$min \\quad \\sum_{j\\isin J} x_j \\\\\n",
    "s.t. \\quad \\sum_{j\\isin J} a_{ij}x_j \\ge 1\\quad \\forall i \\isin I \\\\\n",
    "\\quad x_j \\isin \\{0, 1 \\}\\quad \\forall j \\isin J$$"
   ]
  },
  {
   "cell_type": "markdown",
   "metadata": {},
   "source": [
    "## Fixed charge location problems\n",
    "\n",
    "* Consider a set of demands, $I$, and a set of locations, $J$.\n",
    "* At demand $i$, the demand size is $h_i > 0$.\n",
    "* The unit shipping cost from location $j$ to demand $i$ is $d_{ij} > 0$.\n",
    "* The fixed construction cost at location j is $f_j > 0$.\n",
    "\n",
    "Goal: how do we allocate facilities to minimise the total shippping and construction costs?"
   ]
  },
  {
   "cell_type": "markdown",
   "metadata": {},
   "source": [
    "So we minimise the setup cost and the travel costs...\n",
    "\n",
    "$$min \\sum_{j \\isin J} f_j x_j + \\sum_{j \\isin J} \\sum_{i \\isin I} h_i y_{ij} d_{ij}$$\n",
    "\n",
    "Factoring in our setup constraints...\n",
    "\n",
    "$$ y_ij \\le x_j \\forall i \\isin I, j \\isin J \\\\\n",
    "\n",
    "\\sum_{j \\isin J} y_{ij} = 1, \\forall{i} \\isin I \\\\\n",
    "\n",
    "x_j \\isin \\{0, 1\\} \\quad \\forall j \\isin J \\\\\n",
    "\n",
    "y_i \\isin \\{0, 1\\} \\quad \\forall i \\isin I\n",
    "$$\n",
    "\n",
    "In essence, we assign each demand to a location via the $y_i$ function."
   ]
  },
  {
   "cell_type": "markdown",
   "metadata": {},
   "source": [
    "## Machine scheduling\n",
    "\n",
    "### Minimising single-machine total completion time\n",
    "\n",
    "*NOTE: the lecturer notes that this is something of a terrible example, because you can't minimise single-machine total completion time – no matter how you order it, they're all going to complete at the same time.*\n",
    "\n",
    "Consider scheduling $n$ jobs on a single machine. \n",
    "\n",
    "Each job, $j \\isin J = \\{ 1, 2, \\ldots, n\\}$ has a processing time, $p_j$.\n",
    "\n",
    "Different schedules give these jobs different completion times, $x_j$.\n",
    "\n",
    "The machine can only process one job at a time. We want to schedule all the jobs to minimise the total completion time, $\\sum_{j \\isin J} x_j $."
   ]
  },
  {
   "cell_type": "markdown",
   "metadata": {},
   "source": [
    "Our formulation ends up being:\n",
    "\n",
    "$$\n",
    "min\\quad \\sum_{j \\isin J} x_j \\\\\n",
    "s.t. \\quad x_i + p_j - x_j \\le Mz_{ij}\\quad \\forall i \\isin J, j \\isin J, i < J \\\\\n",
    "\\quad x_i + p_i - x_i \\le M(1-z_{ij})\\quad \\forall i \\isin J, j \\isin J, i < J \\\\\n",
    "\\quad x_j \\ge p_j \\quad \\forall j \\isin J \\\\\n",
    "\\quad x_j \\ge 0 \\quad \\forall j \\isin J \\\\\n",
    "z_ij \\isin \\{ 0, 1 \\} \\quad \\forall i \\isin J, j \\isin J, i < j $$"
   ]
  },
  {
   "cell_type": "markdown",
   "metadata": {},
   "source": [
    "### Minimising makespan on parallel machines\n",
    "\n",
    "If we have $n$ jobs on $m$ parallel machines, how do we assign them to minimise the makespan (the total time between start and finish)?\n",
    "\n",
    "We need to assign jobs to machines. Because there is no ordering component, the sequence does not matter.\n",
    "\n",
    "Let $x_{ij} = 1$ if job $j \\isin J$ is assigned to machine $i \\isin I$, $0$ otherwise.\n",
    "\n",
    "For machine $i \\isin I$, the last job is completed at $\\sum_j{j \\isin J} p_j x_{ij}$.\n",
    "\n",
    "The makespan $w$ is the maximum completion time among all machines. Therefore, $$w \\ge \\sum_{j \\isin J} p_j x_{ij} \\quad \\forall i \\isin I$$."
   ]
  },
  {
   "cell_type": "markdown",
   "metadata": {},
   "source": [
    "## Worked application – Facility location\n",
    "\n",
    "Say we want to determine the optimal placement of facilities in order to satisfy demands. Our parameters are:\n",
    "\n",
    "$$\n",
    "f_j = \\text{weekly operating cost of distribution center } j\\\\\n",
    "c_{ij} = \\text{shipping cost per book from distribution center } j \\text{ to region } i\\\\\n",
    "K_j = \\text{capacity of distribution center }j\\\\\n",
    "D_{i} = \\text{book demand of region }i. $$\n",
    "\n",
    "The decision variables are \n",
    "\n",
    "$$\n",
    "x_j = \\begin{cases}\n",
    "1 \\text{\\quad if a distribution center is built at location }j, i=1,\\ldots,n,\\\\\n",
    "0 \\text{\\quad o/w.}\n",
    "\\end{cases} \\\\\n",
    "y_{ij} = \\text{number of books shipped from distribution center }j \\text{ to region }i$$"
   ]
  },
  {
   "cell_type": "markdown",
   "metadata": {},
   "source": [
    "Our formulation becomes:\n",
    "\n",
    "$$\n",
    "min\\quad\\sum_{j\\isin J}f_jx_j + \\sum_{j\\isin J} \\sum_{i\\isin I} c_{ij}y_{ij}\\\\\n",
    "\n",
    "\\begin{align*}\n",
    "s.t.\\quad\\sum_{i\\isin I}y_{ij} &\\le K_jx_j \\quad \\forall j = 1, \\ldots, 5\\\\\n",
    "\\sum_{j \\isin J} y_{ij} &\\ge D_i \\quad \\forall i = 1, \\ldots, 5\\\\\n",
    "y_{ij} &\\ge 0\\\\\n",
    "x_j & \\isin \\{0, 1\\} \\\\\n",
    "\n",
    "\\end{align*}\n",
    "\n",
    "$$"
   ]
  },
  {
   "cell_type": "markdown",
   "metadata": {},
   "source": [
    "We'll solve this using our integer programming package. This is one where we'll really have to programmatically define our inputs."
   ]
  },
  {
   "cell_type": "code",
   "execution_count": 67,
   "metadata": {},
   "outputs": [],
   "source": [
    "I = 5\n",
    "J = 5\n",
    "\n",
    "D_i = {\n",
    "    0: 8000,\n",
    "    1: 12000,\n",
    "    2: 9000,\n",
    "    3: 14000,\n",
    "    4: 17000\n",
    "}\n",
    "\n",
    "f_j = {\n",
    "    0: 40000,\n",
    "    1: 30000,\n",
    "    2: 25000,\n",
    "    3: 40000,\n",
    "    4: 30000\n",
    "}\n",
    "\n",
    "K_j = {\n",
    "    0: 20000,\n",
    "    1: 20000,\n",
    "    2: 15000,\n",
    "    3: 25000,\n",
    "    4: 15000\n",
    "}\n",
    "\n",
    "c_ij = {\n",
    "    0: {\n",
    "        0: 2.4,\n",
    "        1: 3.25,\n",
    "        2: 4.05,\n",
    "        3: 5.25,\n",
    "        4: 6.95\n",
    "    },\n",
    "    1: {\n",
    "        0: 3.5,\n",
    "        1: 2.3,\n",
    "        2: 3.25,\n",
    "        3: 6.05,\n",
    "        4: 5.85\n",
    "    },\n",
    "    2: {\n",
    "        0: 4.8,\n",
    "        1: 3.4,\n",
    "        2: 2.85,\n",
    "        3: 4.3,\n",
    "        4: 4.8\n",
    "    },\n",
    "    3: {\n",
    "        0: 6.8,\n",
    "        1: 5.25,\n",
    "        2: 4.3,\n",
    "        3: 3.25,\n",
    "        4: 2.1 \n",
    "    },\n",
    "    4: {\n",
    "        0: 5.75,\n",
    "        1: 6,\n",
    "        2: 4.75,\n",
    "        3: 2.75,\n",
    "        4: 3.5\n",
    "    },\n",
    "}"
   ]
  },
  {
   "cell_type": "code",
   "execution_count": 68,
   "metadata": {},
   "outputs": [
    {
     "name": "stdout",
     "output_type": "stream",
     "text": [
      "0\n",
      "y_00 + y_10 + y_20 + y_30 + y_40\n",
      "1\n",
      "y_01 + y_11 + y_21 + y_31 + y_41\n",
      "2\n",
      "y_02 + y_12 + y_22 + y_32 + y_42\n",
      "3\n",
      "y_03 + y_13 + y_23 + y_33 + y_43\n",
      "4\n",
      "y_04 + y_14 + y_24 + y_34 + y_44\n",
      "0\n",
      "1\n",
      "2\n",
      "3\n",
      "4\n"
     ]
    }
   ],
   "source": [
    "prob = pulp.LpProblem(\"Facility_location\", pulp.LpMinimize)\n",
    "\n",
    "x_j = { j: pulp.LpVariable(\"x_{}\".format(j), 0, 1, pulp.LpInteger) for j in range(J)}\n",
    "y_ij = { i: { j: pulp.LpVariable(\"y_{}{}\".format(i, j), 0, None, pulp.LpVariable) for j in range(J) } for i in range(I)}\n",
    "\n",
    "prob += pulp.lpSum(\n",
    "    [x_j[j] * f_j[j] for j in range(J)] + \n",
    "    [y_ij[i][j] * c_ij[i][j] for i in range(I) for j in range(J)]\n",
    "), \"Total cost of operations\"\n",
    "\n",
    "for j in range(J):\n",
    "    print(j)\n",
    "    print(sum([y_ij[i][j] for i in range(I)]))\n",
    "    prob += sum([y_ij[i][j] for i in range(I)]) <= x_j[j] * K_j[j], \"Facility production constraint - {}\".format(j)\n",
    "\n",
    "for i in range(I): \n",
    "    print(i)\n",
    "    prob += sum([y_ij[i][j] for j in range(J)]) >= D_i[i], \"Demand satisfaction constraint - {}\".format(i)"
   ]
  },
  {
   "cell_type": "code",
   "execution_count": 69,
   "metadata": {},
   "outputs": [
    {
     "name": "stdout",
     "output_type": "stream",
     "text": [
      "Welcome to the CBC MILP Solver \n",
      "Version: 2.10.3 \n",
      "Build Date: Dec 15 2019 \n",
      "\n",
      "command line - /Users/Goyder/.local/share/virtualenvs/ops-research-fbgn6z6J/lib/python3.8/site-packages/pulp/apis/../solverdir/cbc/osx/64/cbc /var/folders/g2/6w3bm3ts67nbv8gqz10hmcbh0000gn/T/6329c21937c248adb8d5ee568c869a68-pulp.mps timeMode elapsed branch printingOptions all solution /var/folders/g2/6w3bm3ts67nbv8gqz10hmcbh0000gn/T/6329c21937c248adb8d5ee568c869a68-pulp.sol (default strategy 1)\n",
      "At line 2 NAME          MODEL\n",
      "At line 3 ROWS\n",
      "At line 15 COLUMNS\n",
      "At line 111 RHS\n",
      "At line 122 BOUNDS\n",
      "At line 128 ENDATA\n",
      "Problem MODEL has 10 rows, 30 columns and 55 elements\n",
      "Coin0008I MODEL read with 0 errors\n",
      "Option for timeMode changed from cpu to elapsed\n",
      "Continuous objective value is 252800 - 0.00 seconds\n",
      "Cgl0004I processed model has 10 rows, 30 columns (5 integer (5 of which binary)) and 55 elements\n",
      "Cbc0038I Initial state - 5 integers unsatisfied sum - 1.58667\n",
      "Cbc0038I Pass   1: suminf.    0.00000 (0) obj. 296400 iterations 5\n",
      "Cbc0038I Solution found of 296400\n",
      "Cbc0038I Relaxing continuous gives 280400\n",
      "Cbc0038I Before mini branch and bound, 0 integers at bound fixed and 19 continuous\n",
      "Cbc0038I Mini branch and bound did not improve solution (0.02 seconds)\n",
      "Cbc0038I Round again with cutoff of 277640\n",
      "Cbc0038I Pass   2: suminf.    0.06900 (1) obj. 277640 iterations 2\n",
      "Cbc0038I Pass   3: suminf.    0.40000 (1) obj. 269150 iterations 4\n",
      "Cbc0038I Pass   4: suminf.    0.00000 (0) obj. 269200 iterations 2\n",
      "Cbc0038I Solution found of 269200\n",
      "Cbc0038I Relaxing continuous gives 268950\n",
      "Cbc0038I Before mini branch and bound, 0 integers at bound fixed and 16 continuous\n",
      "Cbc0038I Full problem 10 rows 30 columns, reduced to 6 rows 9 columns\n",
      "Cbc0038I Mini branch and bound did not improve solution (0.02 seconds)\n",
      "Cbc0038I Freeing continuous variables gives a solution of 268950\n",
      "Cbc0038I Round again with cutoff of 265720\n",
      "Cbc0038I Pass   5: suminf.    0.38267 (2) obj. 265720 iterations 2\n",
      "Cbc0038I Pass   6: suminf.    0.78667 (3) obj. 265720 iterations 5\n",
      "Cbc0038I Pass   7: suminf.    0.84289 (2) obj. 265720 iterations 6\n",
      "Cbc0038I Pass   8: suminf.    0.51825 (2) obj. 265720 iterations 4\n",
      "Cbc0038I Pass   9: suminf.    0.18200 (3) obj. 265720 iterations 2\n",
      "Cbc0038I Pass  10: suminf.    0.84289 (2) obj. 265720 iterations 5\n",
      "Cbc0038I Pass  11: suminf.    0.84289 (2) obj. 265720 iterations 0\n",
      "Cbc0038I Pass  12: suminf.    0.84289 (2) obj. 265720 iterations 0\n",
      "Cbc0038I Pass  13: suminf.    0.84289 (2) obj. 265720 iterations 0\n",
      "Cbc0038I Pass  14: suminf.    0.84289 (2) obj. 265720 iterations 0\n",
      "Cbc0038I Pass  15: suminf.    0.51825 (2) obj. 265720 iterations 4\n",
      "Cbc0038I Pass  16: suminf.    0.18200 (3) obj. 265720 iterations 2\n",
      "Cbc0038I Pass  17: suminf.    0.84289 (2) obj. 265720 iterations 5\n",
      "Cbc0038I Pass  18: suminf.    0.21533 (2) obj. 265720 iterations 6\n",
      "Cbc0038I Pass  19: suminf.    0.38267 (2) obj. 265720 iterations 5\n",
      "Cbc0038I Pass  20: suminf.    0.78667 (3) obj. 265720 iterations 5\n",
      "Cbc0038I Pass  21: suminf.    0.38267 (2) obj. 265720 iterations 2\n",
      "Cbc0038I Pass  22: suminf.    0.38267 (2) obj. 265720 iterations 0\n",
      "Cbc0038I Pass  23: suminf.    0.38267 (2) obj. 265720 iterations 0\n",
      "Cbc0038I Pass  24: suminf.    0.38267 (2) obj. 265720 iterations 0\n",
      "Cbc0038I Pass  25: suminf.    0.38267 (2) obj. 265720 iterations 0\n",
      "Cbc0038I Pass  26: suminf.    0.38267 (2) obj. 265720 iterations 0\n",
      "Cbc0038I Pass  27: suminf.    0.38267 (2) obj. 265720 iterations 0\n",
      "Cbc0038I Pass  28: suminf.    0.86275 (4) obj. 265720 iterations 6\n",
      "Cbc0038I Pass  29: suminf.    1.56415 (4) obj. 265720 iterations 3\n",
      "Cbc0038I Pass  30: suminf.    0.50571 (2) obj. 265720 iterations 3\n",
      "Cbc0038I Pass  31: suminf.    0.18200 (3) obj. 265720 iterations 5\n",
      "Cbc0038I Pass  32: suminf.    0.84289 (2) obj. 265720 iterations 5\n",
      "Cbc0038I Pass  33: suminf.    0.84289 (2) obj. 265720 iterations 0\n",
      "Cbc0038I Pass  34: suminf.    0.51825 (2) obj. 265720 iterations 4\n",
      "Cbc0038I No solution found this major pass\n",
      "Cbc0038I Before mini branch and bound, 0 integers at bound fixed and 11 continuous\n",
      "Cbc0038I Full problem 10 rows 30 columns, reduced to 10 rows 19 columns\n",
      "Cbc0038I Mini branch and bound did not improve solution (0.03 seconds)\n",
      "Cbc0038I After 0.03 seconds - Feasibility pump exiting with objective of 268950 - took 0.00 seconds\n",
      "Cbc0012I Integer solution of 268950 found by feasibility pump after 0 iterations and 0 nodes (0.03 seconds)\n",
      "Cbc0031I 5 added rows had average density of 7.4\n",
      "Cbc0013I At root node, 11 cuts changed objective from 252800 to 268950 in 3 passes\n",
      "Cbc0014I Cut generator 0 (Probing) - 1 row cuts average 9.0 elements, 0 column cuts (0 active)  in 0.000 seconds - new frequency is -100\n",
      "Cbc0014I Cut generator 1 (Gomory) - 10 row cuts average 8.3 elements, 0 column cuts (0 active)  in 0.000 seconds - new frequency is 1\n",
      "Cbc0014I Cut generator 2 (Knapsack) - 0 row cuts average 0.0 elements, 0 column cuts (0 active)  in 0.000 seconds - new frequency is -100\n",
      "Cbc0014I Cut generator 3 (Clique) - 0 row cuts average 0.0 elements, 0 column cuts (0 active)  in 0.000 seconds - new frequency is -100\n",
      "Cbc0014I Cut generator 4 (MixedIntegerRounding2) - 1 row cuts average 10.0 elements, 0 column cuts (0 active)  in 0.000 seconds - new frequency is -100\n",
      "Cbc0014I Cut generator 5 (FlowCover) - 0 row cuts average 0.0 elements, 0 column cuts (0 active)  in 0.000 seconds - new frequency is -100\n",
      "Cbc0014I Cut generator 6 (TwoMirCuts) - 11 row cuts average 8.6 elements, 0 column cuts (0 active)  in 0.000 seconds - new frequency is 1\n",
      "Cbc0001I Search completed - best objective 268950, took 13 iterations and 0 nodes (0.03 seconds)\n",
      "Cbc0035I Maximum depth 0, 2 variables fixed on reduced cost\n",
      "Cuts at root node changed objective from 252800 to 268950\n",
      "Probing was tried 3 times and created 1 cuts of which 0 were active after adding rounds of cuts (0.000 seconds)\n",
      "Gomory was tried 3 times and created 10 cuts of which 0 were active after adding rounds of cuts (0.000 seconds)\n",
      "Knapsack was tried 3 times and created 0 cuts of which 0 were active after adding rounds of cuts (0.000 seconds)\n",
      "Clique was tried 3 times and created 0 cuts of which 0 were active after adding rounds of cuts (0.000 seconds)\n",
      "MixedIntegerRounding2 was tried 3 times and created 1 cuts of which 0 were active after adding rounds of cuts (0.000 seconds)\n",
      "FlowCover was tried 3 times and created 0 cuts of which 0 were active after adding rounds of cuts (0.000 seconds)\n",
      "TwoMirCuts was tried 3 times and created 11 cuts of which 0 were active after adding rounds of cuts (0.000 seconds)\n",
      "ZeroHalf was tried 1 times and created 0 cuts of which 0 were active after adding rounds of cuts (0.000 seconds)\n",
      "\n",
      "Result - Optimal solution found\n",
      "\n",
      "Objective value:                268950.00000000\n",
      "Enumerated nodes:               0\n",
      "Total iterations:               13\n",
      "Time (CPU seconds):             0.01\n",
      "Time (Wallclock seconds):       0.03\n",
      "\n",
      "Option for printingOptions changed from normal to all\n",
      "Total time (CPU seconds):       0.01   (Wallclock seconds):       0.04\n",
      "\n"
     ]
    },
    {
     "data": {
      "text/plain": [
       "1"
      ]
     },
     "execution_count": 69,
     "metadata": {},
     "output_type": "execute_result"
    }
   ],
   "source": [
    "prob.solve()"
   ]
  },
  {
   "cell_type": "code",
   "execution_count": 70,
   "metadata": {},
   "outputs": [
    {
     "data": {
      "text/plain": [
       "268950.0"
      ]
     },
     "execution_count": 70,
     "metadata": {},
     "output_type": "execute_result"
    }
   ],
   "source": [
    "pulp.value(prob.objective)"
   ]
  },
  {
   "cell_type": "markdown",
   "metadata": {},
   "source": [
    "(This is the optimal solution!)"
   ]
  },
  {
   "cell_type": "code",
   "execution_count": 71,
   "metadata": {},
   "outputs": [
    {
     "name": "stdout",
     "output_type": "stream",
     "text": [
      "x_0 = 0.0\n",
      "x_1 = 1.0\n",
      "x_2 = 0.0\n",
      "x_3 = 1.0\n",
      "x_4 = 1.0\n",
      "y_00 = 0.0\n",
      "y_01 = 8000.0\n",
      "y_02 = 0.0\n",
      "y_03 = 0.0\n",
      "y_04 = 0.0\n",
      "y_10 = 0.0\n",
      "y_11 = 12000.0\n",
      "y_12 = 0.0\n",
      "y_13 = 0.0\n",
      "y_14 = 0.0\n",
      "y_20 = 0.0\n",
      "y_21 = 0.0\n",
      "y_22 = 0.0\n",
      "y_23 = 8000.0\n",
      "y_24 = 1000.0\n",
      "y_30 = 0.0\n",
      "y_31 = 0.0\n",
      "y_32 = 0.0\n",
      "y_33 = 0.0\n",
      "y_34 = 14000.0\n",
      "y_40 = 0.0\n",
      "y_41 = 0.0\n",
      "y_42 = 0.0\n",
      "y_43 = 17000.0\n",
      "y_44 = 0.0\n"
     ]
    }
   ],
   "source": [
    "# Each of the variables is printed with it's resolved optimum value\n",
    "for v in prob.variables():\n",
    "    print(v.name, \"=\", v.varValue)"
   ]
  }
 ],
 "metadata": {
  "interpreter": {
   "hash": "a36e27473de888c586fd5942bb2ba7fda2eceb6ae4c2b42497381109ca614c78"
  },
  "kernelspec": {
   "display_name": "Python 3.8.9 ('ops-research-fbgn6z6J')",
   "language": "python",
   "name": "python3"
  },
  "language_info": {
   "codemirror_mode": {
    "name": "ipython",
    "version": 3
   },
   "file_extension": ".py",
   "mimetype": "text/x-python",
   "name": "python",
   "nbconvert_exporter": "python",
   "pygments_lexer": "ipython3",
   "version": "3.8.9"
  },
  "orig_nbformat": 4
 },
 "nbformat": 4,
 "nbformat_minor": 2
}
